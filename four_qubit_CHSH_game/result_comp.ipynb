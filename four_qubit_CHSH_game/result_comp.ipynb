{
 "cells": [
  {
   "cell_type": "code",
   "execution_count": null,
   "metadata": {},
   "outputs": [],
   "source": [
    "def extract_data_from_file(file_path):\n",
    "    data = []\n",
    "    with open(file_path, 'r') as file:\n",
    "        for line in file:\n",
    "            line = line.strip()\n",
    "            if line:\n",
    "                parts = line.split(',')\n",
    "                if len(parts) == 3:\n",
    "                    data_point = {\n",
    "                        'value1': float(parts[0]),\n",
    "                        'value2': float(parts[1]),\n",
    "                        'expression': parts[2]\n",
    "                    }\n",
    "                    data.append(data_point)\n",
    "                else:\n",
    "                    print(\"ERROR\", line)\n",
    "    return data\n",
    "\n",
    "def find_max_difference(data):\n",
    "    max_difference = float('-inf')  # Initialisation avec une valeur très basse\n",
    "    max_difference_line = None\n",
    "\n",
    "    for d in data:\n",
    "        difference = abs(d['value1'] - d['value2'])\n",
    "        if difference > max_difference:\n",
    "            max_difference = difference\n",
    "            max_difference_line = d\n",
    "    print(\"difference max : \",max_difference)\n",
    "\n",
    "    return max_difference_line\n",
    "\n",
    "\n",
    "\n",
    "def game_score(data):\n",
    "    \n",
    "    score = 0\n",
    "    for d in data:\n",
    "        difference = abs(d['value1'] - d['value2'])\n",
    "        if difference > 0.01 and d['value1'] > d['value2']:\n",
    "            score+=1\n",
    "    \n",
    "    score = score/4240\n",
    "    return score\n",
    "\n",
    "\n",
    "def mean_gap(data):\n",
    "    r = []\n",
    "\n",
    "    for d in data:\n",
    "        difference = abs(d['value1'] - d['value2'])\n",
    "        if difference > 0.01 and d['value1'] > d['value2']:\n",
    "            r.append(difference)\n",
    "    return sum(r)/len(r)\n"
   ]
  },
  {
   "cell_type": "markdown",
   "metadata": {},
   "source": [
    "# Pour g(a,b,c,d) = a^b^c^d"
   ]
  },
  {
   "cell_type": "markdown",
   "metadata": {},
   "source": [
    "### Etat : W"
   ]
  },
  {
   "cell_type": "code",
   "execution_count": null,
   "metadata": {},
   "outputs": [
    {
     "name": "stdout",
     "output_type": "stream",
     "text": [
      "difference max :  0.0692871717694411\n",
      "Ligne avec l'écart maximal entre value1 et value2: \n",
      " {'value1': 0.6942871717694411, 'value2': 0.625, 'expression': '(x & y & z) | (x & y & ~w) | (x & z & ~w) | (y & z & ~w) | (w & ~x & ~y & ~z)'}\n",
      "Game score :  0.24882075471698112\n",
      "0.022546421108302215\n"
     ]
    }
   ],
   "source": [
    "data = extract_data_from_file(\"W_result.txt\")\n",
    "max_difference_line = find_max_difference(data)\n",
    "print(\"Maximum Gap on line : \\n\", max_difference_line)\n",
    "print(\"Game score : \",game_score(data))\n",
    "print(mean_gap(data))"
   ]
  },
  {
   "cell_type": "markdown",
   "metadata": {},
   "source": [
    "### Etat : GHZ"
   ]
  },
  {
   "cell_type": "code",
   "execution_count": null,
   "metadata": {},
   "outputs": [
    {
     "name": "stdout",
     "output_type": "stream",
     "text": [
      "difference max :  0.22855339033546107\n",
      "Ligne avec l'écart maximal entre value1 et value2: \n",
      " {'value1': 0.8535533903354611, 'value2': 0.625, 'expression': '(w & x & ~y) | (w & y & ~x) | (w & z & ~x) | (x & y & ~z) | (x & z & ~y) | (y & z & ~w)'}\n",
      "Game Score :  0.2634433962264151\n",
      "Gain moyen :  0.05498280696754353\n"
     ]
    }
   ],
   "source": [
    "data = extract_data_from_file(\"GHZ_xor.txt\")\n",
    "max_difference_line = find_max_difference(data)\n",
    "print(\"Maximum Gap on line : \\n\", max_difference_line)\n",
    "print(\"Game Score : \",game_score(data))\n",
    "print(\"Average Gain: \",mean_gap(data))"
   ]
  },
  {
   "cell_type": "markdown",
   "metadata": {},
   "source": [
    "### Etat : Gabcd"
   ]
  },
  {
   "cell_type": "code",
   "execution_count": null,
   "metadata": {},
   "outputs": [
    {
     "name": "stdout",
     "output_type": "stream",
     "text": [
      "difference max :  0.1444284988889033\n",
      "Ligne avec l'écart maximal entre value1 et value2: \n",
      " {'value1': 0.7694284988889033, 'value2': 0.625, 'expression': '(w & x & ~y) | (w & y & ~x) | (w & z & ~x) | (x & y & ~z) | (x & z & ~y) | (y & z & ~w)'}\n",
      "0.3452830188679245\n",
      "0.03739869725443841\n"
     ]
    }
   ],
   "source": [
    "data = extract_data_from_file(\"Gabcd_xor_2.txt\")\n",
    "max_difference_line = find_max_difference(data)\n",
    "print(\"Maximum Gap on line : \\n\", max_difference_line)\n",
    "print(game_score(data))\n",
    "print(mean_gap(data))"
   ]
  },
  {
   "cell_type": "markdown",
   "metadata": {},
   "source": [
    "### Etat : Labc2 avec abc = (8.638731191460957, 1.8211528799025434, 35.712994062653806)\n"
   ]
  },
  {
   "cell_type": "code",
   "execution_count": null,
   "metadata": {},
   "outputs": [
    {
     "name": "stdout",
     "output_type": "stream",
     "text": [
      "difference max :  0.2179399494251668\n",
      "Ligne avec l'écart maximal entre value1 et value2: \n",
      " {'value1': 0.8429399494251668, 'value2': 0.625, 'expression': '(w & x & ~y) | (w & y & ~x) | (w & z & ~x) | (x & y & ~z) | (x & z & ~y) | (y & z & ~w)'}\n",
      "Game Score :  0.2622641509433962\n",
      "Gain moyen :  0.049985236018339346\n"
     ]
    }
   ],
   "source": [
    "data = extract_data_from_file(\"Labc2_xor.txt\")\n",
    "max_difference_line = find_max_difference(data)\n",
    "print(\"Maximum Gap on line : \\n\", max_difference_line)\n",
    "print(\"Game Score : \",game_score(data))\n",
    "print(\"Average Gain: \",mean_gap(data))"
   ]
  },
  {
   "cell_type": "markdown",
   "metadata": {},
   "source": [
    "### Etat : La2b2 avec ab  = 914.7825138100866 460.5603340372281\n"
   ]
  },
  {
   "cell_type": "code",
   "execution_count": null,
   "metadata": {},
   "outputs": [
    {
     "name": "stdout",
     "output_type": "stream",
     "text": [
      "difference max :  0.1570580284360814\n",
      "Ligne avec l'écart maximal entre value1 et value2: \n",
      " {'value1': 0.7820580284360814, 'value2': 0.625, 'expression': '(x & y & z) | (x & y & ~w) | (x & z & ~w) | (y & z & ~w) | (w & ~x & ~y & ~z)'}\n",
      "Game Score :  0.2544811320754717\n",
      "Gain moyen :  0.03472882927711459\n"
     ]
    }
   ],
   "source": [
    "data = extract_data_from_file(\"La2b2_xor.txt\")\n",
    "max_difference_line = find_max_difference(data)\n",
    "print(\"Maximum Gap on line : \\n\", max_difference_line)\n",
    "print(\"Game Score : \",game_score(data))\n",
    "print(\"Average Gain: \",mean_gap(data))"
   ]
  },
  {
   "cell_type": "markdown",
   "metadata": {},
   "source": [
    "La2031 xor "
   ]
  },
  {
   "cell_type": "code",
   "execution_count": null,
   "metadata": {},
   "outputs": [
    {
     "name": "stdout",
     "output_type": "stream",
     "text": [
      "difference max :  0.22855258116862232\n",
      "Ligne avec l'écart maximal entre value1 et value2: \n",
      " {'value1': 0.8535525811686223, 'value2': 0.625, 'expression': '(x & y & z) | (x & y & ~w) | (x & z & ~w) | (y & z & ~w) | (w & ~x & ~y & ~z)'}\n",
      "Game Score :  0.2554245283018868\n",
      "Gain moyen :  0.055877799482292344\n"
     ]
    }
   ],
   "source": [
    "data = extract_data_from_file(\"La2031_xor.txt\")\n",
    "max_difference_line = find_max_difference(data)\n",
    "print(\"Maximum Gap on line : \\n\", max_difference_line)\n",
    "print(\"Game Score : \",game_score(data))\n",
    "print(\"Average Gain: \",mean_gap(data))"
   ]
  },
  {
   "cell_type": "code",
   "execution_count": null,
   "metadata": {},
   "outputs": [
    {
     "name": "stdout",
     "output_type": "stream",
     "text": [
      "difference max :  0.11949998813342455\n",
      "Ligne avec l'écart maximal entre value1 et value2: \n",
      " {'value1': 0.7444999881334246, 'value2': 0.625, 'expression': '(w & ~x) | (w & ~z) | (y & ~x) | (y & ~z) | (x & z & ~w & ~y)'}\n",
      "Game Score :  0.24504716981132074\n",
      "Gain moyen :  0.036810257483597564\n"
     ]
    }
   ],
   "source": [
    "data = extract_data_from_file(\"Lab3_xor.txt\")\n",
    "max_difference_line = find_max_difference(data)\n",
    "print(\"Maximum Gap on line : \\n\", max_difference_line)\n",
    "print(\"Game Score : \",game_score(data))\n",
    "print(\"Average Gain: \",mean_gap(data))"
   ]
  },
  {
   "cell_type": "code",
   "execution_count": null,
   "metadata": {},
   "outputs": [
    {
     "name": "stdout",
     "output_type": "stream",
     "text": [
      "difference max :  0.12499970850394915\n",
      "Ligne avec l'écart maximal entre value1 et value2: \n",
      " {'value1': 0.7499997085039491, 'value2': 0.625, 'expression': '(w & ~x) | (w & ~z) | (y & ~x) | (y & ~z) | (x & z & ~w & ~y)'}\n",
      "Game Score :  0.2179245283018868\n",
      "Gain moyen :  0.035378761320944016\n"
     ]
    }
   ],
   "source": [
    "data = extract_data_from_file(\"La4_xor.txt\")\n",
    "max_difference_line = find_max_difference(data)\n",
    "print(\"Maximum Gap on line : \\n\", max_difference_line)\n",
    "print(\"Game Score : \",game_score(data))\n",
    "print(\"Average Gain: \",mean_gap(data))"
   ]
  },
  {
   "cell_type": "code",
   "execution_count": null,
   "metadata": {},
   "outputs": [
    {
     "name": "stdout",
     "output_type": "stream",
     "text": [
      "Ligne avec l'écart maximal entre value1 et value2: \n",
      " {'value1': 0.7499999999728227, 'value2': 0.625, 'expression': '(w & x & ~y) | (w & y & ~x) | (w & z & ~x) | (x & y & ~z) | (x & z & ~y) | (y & z & ~w)'}\n",
      "Game Score :  0.2804245283018868\n",
      "Gain moyen :  0.04485296219718087\n"
     ]
    }
   ],
   "source": [
    "data = extract_data_from_file(\"L3131_xor.txt\")\n",
    "max_difference_line = find_max_difference(data)\n",
    "print(\"Maximum Gap on line : \\n\", max_difference_line)\n",
    "print(\"Game Score : \",game_score(data))\n",
    "print(\"Average Gain: \",mean_gap(data))"
   ]
  },
  {
   "cell_type": "code",
   "execution_count": null,
   "metadata": {},
   "outputs": [
    {
     "name": "stdout",
     "output_type": "stream",
     "text": [
      "difference max :  0.034941108525829434\n",
      "Ligne avec l'écart maximal entre value1 et value2: \n",
      " {'value1': 0.6599411085258294, 'value2': 0.625, 'expression': '(w & x & ~z) | (w & y & ~z) | (x & y & ~w) | (w & z & ~x & ~y)'}\n",
      "Game Score :  0.003066037735849057\n",
      "Gain moyen :  0.03133219504801785\n"
     ]
    }
   ],
   "source": [
    "data = extract_data_from_file(\"L071_xor.txt\")\n",
    "max_difference_line = find_max_difference(data)\n",
    "print(\"Maximum Gap on line : \\n\", max_difference_line)\n",
    "print(\"Game Score : \",game_score(data))\n",
    "print(\"Average Gain: \",mean_gap(data))"
   ]
  },
  {
   "cell_type": "code",
   "execution_count": null,
   "metadata": {},
   "outputs": [
    {
     "name": "stdout",
     "output_type": "stream",
     "text": [
      "difference max :  0.028093108860755334\n",
      "Ligne avec l'écart maximal entre value1 et value2: \n",
      " {'value1': 0.6530931088607553, 'value2': 0.625, 'expression': '(w & ~z) | (x & ~z) | (w & x & ~y) | (y & z & ~w) | (y & z & ~x)'}\n",
      "Game Score :  0.0033018867924528303\n",
      "Gain moyen :  0.024028036021780712\n"
     ]
    }
   ],
   "source": [
    "data = extract_data_from_file(\"L053_xor.txt\")\n",
    "max_difference_line = find_max_difference(data)\n",
    "print(\"Maximum Gap on line : \\n\", max_difference_line)\n",
    "print(\"Game Score : \",game_score(data))\n",
    "print(\"Average Gain: \",mean_gap(data))\n"
   ]
  },
  {
   "cell_type": "code",
   "execution_count": null,
   "metadata": {},
   "outputs": [
    {
     "name": "stdout",
     "output_type": "stream",
     "text": [
      "difference max :  0.1249999994477119\n",
      "Ligne avec l'écart maximal entre value1 et value2: \n",
      " {'value1': 0.7499999994477119, 'value2': 0.625, 'expression': '(w & ~x) | (w & ~z) | (y & ~x) | (y & ~z) | (x & z & ~w & ~y)'}\n",
      "Game Score :  0.2179245283018868\n",
      "Gain moyen :  0.03539508323036934\n"
     ]
    }
   ],
   "source": [
    "data = extract_data_from_file(\"MP_xor.txt\")\n",
    "max_difference_line = find_max_difference(data)\n",
    "print(\"Maximum Gap on line : \\n\", max_difference_line)\n",
    "print(\"Game Score : \",game_score(data))\n",
    "print(\"Average Gain: \",mean_gap(data))"
   ]
  },
  {
   "cell_type": "code",
   "execution_count": null,
   "metadata": {},
   "outputs": [
    {
     "name": "stdout",
     "output_type": "stream",
     "text": [
      "difference max :  0.12499999958527463\n",
      "Ligne avec l'écart maximal entre value1 et value2: \n",
      " {'value1': 0.7499999995852746, 'value2': 0.625, 'expression': '(w & x & ~y) | (w & x & ~z) | (y & z & ~w) | (y & z & ~x)'}\n",
      "Game Score :  0.07122641509433962\n",
      "Gain moyen :  0.03576855801896465\n"
     ]
    }
   ],
   "source": [
    "data = extract_data_from_file(\"C1_xor.txt\")\n",
    "max_difference_line = find_max_difference(data)\n",
    "print(\"Maximum Gap on line : \\n\", max_difference_line)\n",
    "print(\"Game Score : \",game_score(data))\n",
    "print(\"Average Gain: \",mean_gap(data))"
   ]
  },
  {
   "cell_type": "code",
   "execution_count": null,
   "metadata": {},
   "outputs": [
    {
     "name": "stdout",
     "output_type": "stream",
     "text": [
      "difference max :  0.1249999994231934\n",
      "Ligne avec l'écart maximal entre value1 et value2: \n",
      " {'value1': 0.7499999994231934, 'value2': 0.625, 'expression': '(x & ~w) | (x & ~z) | (y & ~w) | (y & ~z) | (w & z & ~x & ~y)'}\n",
      "Game Score :  0.06721698113207547\n",
      "Gain moyen :  0.03438160424439067\n"
     ]
    }
   ],
   "source": [
    "data = extract_data_from_file(\"C2_xor.txt\")\n",
    "max_difference_line = find_max_difference(data)\n",
    "print(\"Maximum Gap on line : \\n\", max_difference_line)\n",
    "print(\"Game Score : \",game_score(data))\n",
    "print(\"Average Gain: \",mean_gap(data))"
   ]
  },
  {
   "cell_type": "code",
   "execution_count": null,
   "metadata": {},
   "outputs": [
    {
     "name": "stdout",
     "output_type": "stream",
     "text": [
      "difference max :  0.04166666638713967\n",
      "Ligne avec l'écart maximal entre value1 et value2: \n",
      " {'value1': 0.6666666663871397, 'value2': 0.625, 'expression': '(w & x & ~y) | (w & x & ~z) | (y & z & ~w) | (y & z & ~x)'}\n",
      "Game Score :  0.13443396226415094\n",
      "Gain moyen :  0.01322794192097518\n"
     ]
    }
   ],
   "source": [
    "data = extract_data_from_file(\"HS_xor.txt\")\n",
    "max_difference_line = find_max_difference(data)\n",
    "print(\"Maximum Gap on line : \\n\", max_difference_line)\n",
    "print(\"Game Score : \",game_score(data))\n",
    "print(\"Average Gain: \",mean_gap(data))"
   ]
  },
  {
   "cell_type": "code",
   "execution_count": null,
   "metadata": {},
   "outputs": [
    {
     "name": "stdout",
     "output_type": "stream",
     "text": [
      "difference max :  0.05177669421491815\n",
      "Ligne avec l'écart maximal entre value1 et value2: \n",
      " {'value1': 0.6767766942149182, 'value2': 0.625, 'expression': '(w & x & ~y) | (w & y & ~x) | (w & z & ~x) | (x & y & ~z) | (x & z & ~y) | (y & z & ~w)'}\n",
      "Game Score :  0.10919811320754717\n",
      "Gain moyen :  0.01697726104891246\n",
      "0.7604914710184102 0.75\n"
     ]
    }
   ],
   "source": [
    "data = extract_data_from_file(\"L_xor.txt\")\n",
    "max_difference_line = find_max_difference(data)\n",
    "print(\"Maximum Gap on line : \\n\", max_difference_line)\n",
    "print(\"Game Score : \",game_score(data))\n",
    "print(\"Average Gain: \",mean_gap(data))\n",
    "\n",
    "test = []\n",
    "t = []\n",
    "for d in data:\n",
    "    test.append(d[\"value1\"])\n",
    "    t.append(d[\"value2\"])\n",
    "\n",
    "print(max(test),t[test.index(max(test))])"
   ]
  },
  {
   "cell_type": "code",
   "execution_count": null,
   "metadata": {},
   "outputs": [
    {
     "name": "stdout",
     "output_type": "stream",
     "text": [
      "difference max :  0.02106983135215057\n",
      "Ligne avec l'écart maximal entre value1 et value2: \n",
      " {'value1': 0.7085698313521506, 'value2': 0.6875, 'expression': '(w & x & ~y) | (w & y & ~x & ~z) | (x & y & ~w & ~z) | (y & z & ~w & ~x)'}\n",
      "Game Score :  0.007311320754716981\n",
      "Gain moyen :  0.01638407406296953\n"
     ]
    }
   ],
   "source": [
    "data = extract_data_from_file(\"MP_sep.txt\")\n",
    "max_difference_line = find_max_difference(data)\n",
    "print(\"Maximum Gap on line : \\n\", max_difference_line)\n",
    "print(\"Game Score : \",game_score(data))\n",
    "print(\"Average Gain: \",mean_gap(data))"
   ]
  },
  {
   "cell_type": "code",
   "execution_count": null,
   "metadata": {},
   "outputs": [
    {
     "name": "stdout",
     "output_type": "stream",
     "text": [
      "difference max :  0.021069831649842663\n",
      "Ligne avec l'écart maximal entre value1 et value2: \n",
      " {'value1': 0.7085698316498427, 'value2': 0.6875, 'expression': '(w & x & ~y) | (y & z & ~w) | (w & y & ~x & ~z)'}\n",
      "Game Score :  0.007075471698113208\n",
      "Gain moyen :  0.016227882777870177\n"
     ]
    }
   ],
   "source": [
    "data = extract_data_from_file(\"MP_sep2.txt\")\n",
    "max_difference_line = find_max_difference(data)\n",
    "print(\"Maximum Gap on line : \\n\", max_difference_line)\n",
    "print(\"Game Score : \",game_score(data))\n",
    "print(\"Average Gain: \",mean_gap(data))"
   ]
  }
 ],
 "metadata": {
  "kernelspec": {
   "display_name": ".venv",
   "language": "python",
   "name": "python3"
  },
  "language_info": {
   "codemirror_mode": {
    "name": "ipython",
    "version": 3
   },
   "file_extension": ".py",
   "mimetype": "text/x-python",
   "name": "python",
   "nbconvert_exporter": "python",
   "pygments_lexer": "ipython3",
   "version": "3.12.3"
  }
 },
 "nbformat": 4,
 "nbformat_minor": 2
}
